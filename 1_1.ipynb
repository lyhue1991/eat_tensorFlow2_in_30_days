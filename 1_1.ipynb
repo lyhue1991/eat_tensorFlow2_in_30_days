{
  "nbformat": 4,
  "nbformat_minor": 0,
  "metadata": {
    "colab": {
      "name": "1-1.ipynb",
      "provenance": [],
      "mount_file_id": "1L-xVqC8NEcDz7N90EXk9D5E4BVv5vGId",
      "authorship_tag": "ABX9TyOo1FJBMvf2lTB2vig1Nhue",
      "include_colab_link": true
    },
    "kernelspec": {
      "name": "python3",
      "display_name": "Python 3"
    }
  },
  "cells": [
    {
      "cell_type": "markdown",
      "metadata": {
        "id": "view-in-github",
        "colab_type": "text"
      },
      "source": [
        "<a href=\"https://colab.research.google.com/github/nanhaishun/eat_tensorflow2_in_30_days/blob/master/1_1.ipynb\" target=\"_parent\"><img src=\"https://colab.research.google.com/assets/colab-badge.svg\" alt=\"Open In Colab\"/></a>"
      ]
    },
    {
      "cell_type": "code",
      "metadata": {
        "colab": {
          "base_uri": "https://localhost:8080/"
        },
        "id": "LYZGfdx-lBB1",
        "outputId": "10f6fd41-1356-44ae-d27f-8306716dca74"
      },
      "source": [
        "!git clone https://github.com/lyhue1991/eat_tensorflow2_in_30_days.git"
      ],
      "execution_count": null,
      "outputs": [
        {
          "output_type": "stream",
          "text": [
            "Cloning into 'eat_tensorflow2_in_30_days'...\n",
            "remote: Enumerating objects: 239, done.\u001b[K\n",
            "remote: Counting objects: 100% (239/239), done.\u001b[K\n",
            "remote: Compressing objects: 100% (88/88), done.\u001b[K\n",
            "remote: Total 14617 (delta 93), reused 194 (delta 87), pack-reused 14378\u001b[K\n",
            "Receiving objects: 100% (14617/14617), 59.97 MiB | 24.85 MiB/s, done.\n",
            "Resolving deltas: 100% (13200/13200), done.\n",
            "Checking out files: 100% (12529/12529), done.\n"
          ],
          "name": "stdout"
        }
      ]
    },
    {
      "cell_type": "markdown",
      "metadata": {
        "id": "tUqGxl1q0WYA"
      },
      "source": [
        "1-1"
      ]
    },
    {
      "cell_type": "code",
      "metadata": {
        "id": "ux1xcPKtnUjf"
      },
      "source": [
        "import numpy as np \n",
        "import pandas as pd \n",
        "import matplotlib.pyplot as plt\n",
        "import tensorflow as tf \n",
        "from tensorflow.keras import models,layers"
      ],
      "execution_count": null,
      "outputs": []
    },
    {
      "cell_type": "code",
      "metadata": {
        "colab": {
          "base_uri": "https://localhost:8080/",
          "height": 151
        },
        "id": "U3Gyh6RangHR",
        "outputId": "4ae55668-67d1-4ecb-957e-3737566b8a55"
      },
      "source": [
        "dftrain_raw = pd.read_csv('/content/eat_tensorflow2_in_30_days/data/titanic/train.csv')\n",
        "dftest_raw = pd.read_csv('/content/eat_tensorflow2_in_30_days/data/titanic/test.csv')\n",
        "dftrain_raw.head(1)"
      ],
      "execution_count": null,
      "outputs": [
        {
          "output_type": "execute_result",
          "data": {
            "text/html": [
              "<div>\n",
              "<style scoped>\n",
              "    .dataframe tbody tr th:only-of-type {\n",
              "        vertical-align: middle;\n",
              "    }\n",
              "\n",
              "    .dataframe tbody tr th {\n",
              "        vertical-align: top;\n",
              "    }\n",
              "\n",
              "    .dataframe thead th {\n",
              "        text-align: right;\n",
              "    }\n",
              "</style>\n",
              "<table border=\"1\" class=\"dataframe\">\n",
              "  <thead>\n",
              "    <tr style=\"text-align: right;\">\n",
              "      <th></th>\n",
              "      <th>PassengerId</th>\n",
              "      <th>Survived</th>\n",
              "      <th>Pclass</th>\n",
              "      <th>Name</th>\n",
              "      <th>Sex</th>\n",
              "      <th>Age</th>\n",
              "      <th>SibSp</th>\n",
              "      <th>Parch</th>\n",
              "      <th>Ticket</th>\n",
              "      <th>Fare</th>\n",
              "      <th>Cabin</th>\n",
              "      <th>Embarked</th>\n",
              "    </tr>\n",
              "  </thead>\n",
              "  <tbody>\n",
              "    <tr>\n",
              "      <th>0</th>\n",
              "      <td>493</td>\n",
              "      <td>0</td>\n",
              "      <td>1</td>\n",
              "      <td>Molson, Mr. Harry Markland</td>\n",
              "      <td>male</td>\n",
              "      <td>55.0</td>\n",
              "      <td>0</td>\n",
              "      <td>0</td>\n",
              "      <td>113787</td>\n",
              "      <td>30.5</td>\n",
              "      <td>C30</td>\n",
              "      <td>S</td>\n",
              "    </tr>\n",
              "  </tbody>\n",
              "</table>\n",
              "</div>"
            ],
            "text/plain": [
              "   PassengerId  Survived  Pclass  ...  Fare Cabin  Embarked\n",
              "0          493         0       1  ...  30.5   C30         S\n",
              "\n",
              "[1 rows x 12 columns]"
            ]
          },
          "metadata": {
            "tags": []
          },
          "execution_count": 8
        }
      ]
    },
    {
      "cell_type": "code",
      "metadata": {
        "colab": {
          "base_uri": "https://localhost:8080/",
          "height": 434
        },
        "id": "xYsdrTFToCGB",
        "outputId": "2c35dd92-4a39-438c-f5bf-93398f000cdf"
      },
      "source": [
        "%matplotlib inline\n",
        "%config InlineBackend.figure_format = 'png'\n",
        "ax = dftrain_raw['Survived'].value_counts().plot(kind = 'bar',\n",
        "     figsize = (12,8),fontsize=15,rot = 0)\n",
        "ax.set_ylabel('Counts',fontsize = 15)\n",
        "ax.set_xlabel('Survived',fontsize = 15)\n",
        "plt.show()"
      ],
      "execution_count": null,
      "outputs": [
        {
          "output_type": "display_data",
          "data": {
            "image/png": "[encoded data removed]",
            "text/plain": [
              "<Figure size 864x576 with 1 Axes>"
            ]
          },
          "metadata": {
            "tags": [],
            "needs_background": "light"
          }
        }
      ]
    },
    {
      "cell_type": "code",
      "metadata": {
        "colab": {
          "base_uri": "https://localhost:8080/",
          "height": 439
        },
        "id": "w1PyDVy70yWH",
        "outputId": "243fabe6-6550-47b3-e509-7ba041bad9da"
      },
      "source": [
        "%matplotlib inline\n",
        "%config InlineBackend.figure_format = 'png'\n",
        "ax = dftrain_raw['Age'].plot(kind = 'hist',bins = 20,color= 'purple',\n",
        "                    figsize = (12,8),fontsize=15)\n",
        " \n",
        "ax.set_ylabel('Frequency',fontsize = 15)\n",
        "ax.set_xlabel('Age',fontsize = 15)\n",
        "plt.show()"
      ],
      "execution_count": null,
      "outputs": [
        {
          "output_type": "display_data",
          "data": {
            "image/png": "[encoded data removed]",
            "text/plain": [
              "<Figure size 864x576 with 1 Axes>"
            ]
          },
          "metadata": {
            "tags": [],
            "needs_background": "light"
          }
        }
      ]
    },
    {
      "cell_type": "code",
      "metadata": {
        "colab": {
          "base_uri": "https://localhost:8080/",
          "height": 426
        },
        "id": "cHj11uCS1rcZ",
        "outputId": "d89bd724-e185-4efd-daba-e9e945da7b04"
      },
      "source": [
        "%matplotlib inline\n",
        "%config InlineBackend.figure_format = 'png'\n",
        "ax = dftrain_raw.query('Survived == 0')['Age'].plot(kind = 'density',\n",
        "                      figsize = (12,8),fontsize=15)\n",
        "dftrain_raw.query('Survived == 1')['Age'].plot(kind = 'density',\n",
        "                      figsize = (12,8),fontsize=15)\n",
        "ax.legend(['Survived==0','Survived==1'],fontsize = 12)\n",
        "ax.set_ylabel('Density',fontsize = 15)\n",
        "ax.set_xlabel('Age',fontsize = 15)\n",
        "plt.show()"
      ],
      "execution_count": null,
      "outputs": [
        {
          "output_type": "display_data",
          "data": {
            "image/png": "[encoded data removed]",
            "text/plain": [
              "<Figure size 864x576 with 1 Axes>"
            ]
          },
          "metadata": {
            "tags": [],
            "needs_background": "light"
          }
        }
      ]
    },
    {
      "cell_type": "code",
      "metadata": {
        "id": "41I2QY0J12EF"
      },
      "source": [
        "def preprocessing(dfdata):\n",
        " \n",
        "    dfresult= pd.DataFrame()\n",
        " \n",
        "    #Pclass\n",
        "    dfPclass = pd.get_dummies(dfdata['Pclass'])\n",
        "    dfPclass.columns = ['Pclass_' +str(x) for x in dfPclass.columns ]\n",
        "    dfresult = pd.concat([dfresult,dfPclass],axis = 1)\n",
        " \n",
        "    #Sex\n",
        "    dfSex = pd.get_dummies(dfdata['Sex'])\n",
        "    dfresult = pd.concat([dfresult,dfSex],axis = 1)\n",
        " \n",
        "    #Age\n",
        "    dfresult['Age'] = dfdata['Age'].fillna(0)\n",
        "    dfresult['Age_null'] = pd.isna(dfdata['Age']).astype('int32')\n",
        " \n",
        "    #SibSp,Parch,Fare\n",
        "    dfresult['SibSp'] = dfdata['SibSp']\n",
        "    dfresult['Parch'] = dfdata['Parch']\n",
        "    dfresult['Fare'] = dfdata['Fare']\n",
        " \n",
        "    #Carbin\n",
        "    dfresult['Cabin_null'] =  pd.isna(dfdata['Cabin']).astype('int32')\n",
        " \n",
        "    #Embarked\n",
        "    dfEmbarked = pd.get_dummies(dfdata['Embarked'],dummy_na=True)\n",
        "    dfEmbarked.columns = ['Embarked_' + str(x) for x in dfEmbarked.columns]\n",
        "    dfresult = pd.concat([dfresult,dfEmbarked],axis = 1)\n",
        " \n",
        "    return(dfresult)"
      ],
      "execution_count": null,
      "outputs": []
    },
    {
      "cell_type": "code",
      "metadata": {
        "id": "rihnY-Y62Ans"
      },
      "source": [
        "x_train = preprocessing(dftrain_raw)\n",
        "y_train = dftrain_raw['Survived'].values"
      ],
      "execution_count": null,
      "outputs": []
    },
    {
      "cell_type": "code",
      "metadata": {
        "id": "RJpR7ssm2GPo"
      },
      "source": [
        "x_test = preprocessing(dftest_raw)\n",
        "y_test = dftest_raw['Survived'].values"
      ],
      "execution_count": null,
      "outputs": []
    },
    {
      "cell_type": "code",
      "metadata": {
        "colab": {
          "base_uri": "https://localhost:8080/"
        },
        "id": "5fpGNhqK2MeT",
        "outputId": "fcebe4e2-ce96-4aca-889f-b703a39b1481"
      },
      "source": [
        "print(\"x_train.shape =\", x_train.shape )\n",
        "print(\"x_test.shape =\", x_test.shape )"
      ],
      "execution_count": null,
      "outputs": [
        {
          "output_type": "stream",
          "text": [
            "x_train.shape = (712, 15)\n",
            "x_test.shape = (179, 15)\n"
          ],
          "name": "stdout"
        }
      ]
    },
    {
      "cell_type": "code",
      "metadata": {
        "colab": {
          "base_uri": "https://localhost:8080/"
        },
        "id": "Wq3c2-8J2PBT",
        "outputId": "e72fe973-ad83-41e1-8013-89d78155ba77"
      },
      "source": [
        "tf.keras.backend.clear_session()\n",
        "model = models.Sequential()\n",
        "model.add(layers.Dense(20,activation = 'relu',input_shape=(15,)))\n",
        "model.add(layers.Dense(10,activation = 'relu' ))\n",
        "model.add(layers.Dense(1,activation = 'sigmoid' ))\n",
        " \n",
        "model.summary()"
      ],
      "execution_count": null,
      "outputs": [
        {
          "output_type": "stream",
          "text": [
            "Model: \"sequential\"\n",
            "_________________________________________________________________\n",
            "Layer (type)                 Output Shape              Param #   \n",
            "=================================================================\n",
            "dense (Dense)                (None, 20)                320       \n",
            "_________________________________________________________________\n",
            "dense_1 (Dense)              (None, 10)                210       \n",
            "_________________________________________________________________\n",
            "dense_2 (Dense)              (None, 1)                 11        \n",
            "=================================================================\n",
            "Total params: 541\n",
            "Trainable params: 541\n",
            "Non-trainable params: 0\n",
            "_________________________________________________________________\n"
          ],
          "name": "stdout"
        }
      ]
    },
    {
      "cell_type": "code",
      "metadata": {
        "id": "vEtzJwds2T27"
      },
      "source": [
        ""
      ],
      "execution_count": null,
      "outputs": []
    }
  ]
}